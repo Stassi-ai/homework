{
 "cells": [
  {
   "cell_type": "code",
   "execution_count": null,
   "metadata": {},
   "outputs": [],
   "source": [
    "# Nastassia-Week3Homework#\n",
    "\n",
    "#Python Homework Data Types#\n",
    "\n",
    "__String__ (str) x=\"Hello World\"\n",
    "\n",
    "__Integer__ (int) y=10 \n",
    "\n",
    "__Float__ (float) z=10.5\n",
    "\n",
    "__Boolean__ (bool) a=True \n",
    "\n",
    "__List__ (list) b=[1,2,3,4,5]\n",
    "\n",
    "__Tuple__ (tuple) c=(1,2,3,4,5)\n",
    "\n",
    "__Set__ (set) d={1,2,3,4,5}\n",
    "\n",
    "__Dictionary__ (dict) e={\"name\":\"John\", \"age\":30}\n",
    "\n",
    " __NoneType__ (None) f=None\n",
    "\n",
    "1. An algorithm is a step-by-step procedure for solving a problem or accomplishing a task. It is a set of rules or instructions to be followed in calculations or other problem-solving operations, especially by a computer.\n",
    "\n",
    "2. The variable name may not start with a digit or underscore, and it should not contain spaces or special characters (except for underscores). Variable names are case-sensitive in Python.\n",
    "\n",
    "3. A semantic error, in the context of programming or language, is an error that arises from the incorrect or illogical use of words or code, leading to a program or statement that, while syntactically correct, doesn't produce the intended meaning or result. '\n",
    "\n",
    "4. The #1 rule of coding and debugging, often stated as \"Assume Nothing.\"\n",
    "\n",
    "5. [False , None , True , and , as ] are all reserved keywords in Python. They are used to define logical operations and control flow in the code.\n",
    "\n",
    "6. "
   ]
  },
  {
   "cell_type": "code",
   "execution_count": 8,
   "metadata": {},
   "outputs": [
    {
     "name": "stdout",
     "output_type": "stream",
     "text": [
      "Nastassia Amerson is my name. My favorite food is Scampi and my dream job is Records Analyts for an Energy Company.\n"
     ]
    }
   ],
   "source": [
    "multiline_string =(\"Nastassia Amerson is my name.\"\n",
    "\" My favorite food is Scampi\"\n",
    "\" and my dream job is Records Analyts for an Energy Company.\")\n",
    "print(multiline_string)"
   ]
  },
  {
   "cell_type": "markdown",
   "metadata": {},
   "source": []
  },
  {
   "cell_type": "code",
   "execution_count": 12,
   "metadata": {},
   "outputs": [
    {
     "name": "stdout",
     "output_type": "stream",
     "text": [
      "The length of the string is: 28\n",
      "The 4th character in the string is: l\n"
     ]
    }
   ],
   "source": [
    "# Assigning variables with different data types\n",
    "my_string = \"Hello, Valerie Jean Gardley!\"\n",
    "my_integer = 44\n",
    "my_float = 3.14\n",
    "my_boolean = True\n",
    "my_list = [1, 2, 3, 4, 5]\n",
    "\n",
    "# Print the length of the string\n",
    "print(f\"The length of the string is: {len(my_string)}\")\n",
    "\n",
    "# Print the index of the 4th character (index 3, since Python is 0-indexed)\n",
    "print(f\"The 4th character in the string is: {my_string[3]}\")"
   ]
  },
  {
   "cell_type": "code",
   "execution_count": 73,
   "metadata": {},
   "outputs": [
    {
     "name": "stdout",
     "output_type": "stream",
     "text": [
      "savvy\n",
      "Learning Data Ananlytics and Python is Awesome!\n",
      "savvy Learning Data Ananlytics and Python is Awesome!\n",
      "(0, 39)\n"
     ]
    }
   ],
   "source": [
    "variable = \"savvy\"\n",
    "print(variable)\n",
    "my_string = (\"Learning Data Ananlytics and Python is Awesome!\") \n",
    "print(my_string)\n",
    "variable += \" \" + my_string\n",
    "print(variable)\n",
    "range=(0, 39)\n",
    "print(range)\n"
   ]
  },
  {
   "cell_type": "code",
   "execution_count": 77,
   "metadata": {},
   "outputs": [],
   "source": [
    "text= \"Learning Data Ananlytics and Python is Awesome!\"\n",
    "substring_text1 = \"[5:22]\""
   ]
  },
  {
   "cell_type": "code",
   "execution_count": null,
   "metadata": {},
   "outputs": [],
   "source": []
  }
 ],
 "metadata": {
  "kernelspec": {
   "display_name": "Python 3",
   "language": "python",
   "name": "python3"
  },
  "language_info": {
   "codemirror_mode": {
    "name": "ipython",
    "version": 3
   },
   "file_extension": ".py",
   "mimetype": "text/x-python",
   "name": "python",
   "nbconvert_exporter": "python",
   "pygments_lexer": "ipython3",
   "version": "3.13.2"
  }
 },
 "nbformat": 4,
 "nbformat_minor": 2
}
